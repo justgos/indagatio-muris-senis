{
 "cells": [
  {
   "cell_type": "code",
   "execution_count": 10,
   "metadata": {},
   "outputs": [],
   "source": [
    "import json\n",
    "from importlib import reload\n",
    "from owlready2 import *\n",
    "# from loaders.biopax import BIOPAX_BASE, BioPaxFile, BioPax_Pathway\n",
    "import networkx as nx"
   ]
  },
  {
   "cell_type": "code",
   "execution_count": 11,
   "metadata": {},
   "outputs": [],
   "source": [
    "# pc = BioPaxFile()\n",
    "# pc.load('../data/PathwayCommons10.kegg.BIOPAX.owl')\n",
    "\n",
    "pc = get_ontology(\"../data/PathwayCommons10.kegg.BIOPAX.owl\").load()"
   ]
  },
  {
   "cell_type": "code",
   "execution_count": 36,
   "metadata": {},
   "outputs": [
    {
     "name": "stdout",
     "output_type": "stream",
     "text": [
      "{biopax-level3.name, biopax-level3.pathwayComponent, biopax-level3.xref, biopax-level3.displayName, biopax-level3.dataSource, biopax-level3.standardName, biopax-level3.availability}\n",
      "Pyrimidine metabolism\n",
      "{biopax-level3.controller, biopax-level3.comment, biopax-level3.displayName, biopax-level3.dataSource, biopax-level3.controlled}\n",
      "rn:R02326_Catalysis\n",
      "\n",
      "[.Protein_807db7d05990fd3bf31ab2a07e82fc60, .Protein_7acd51a37a5a7bc30996301aca90d817]\n",
      "{biopax-level3.name, biopax-level3.comment, biopax-level3.displayName, biopax-level3.dataSource, biopax-level3.standardName, biopax-level3.entityReference}\n",
      "NME\n",
      "uniprot.P56597\n",
      "{biopax-level3.name, biopax-level3.comment, biopax-level3.xref, biopax-level3.organism, biopax-level3.displayName, biopax-level3.standardName}\n",
      "Homo sapiens (human)\n",
      "\n",
      ".BiochemicalReaction_6c699bd73dd15be0db5af66fbe386eb0\n",
      "{biopax-level3.conversionDirection, biopax-level3.eCNumber, biopax-level3.participantStoichiometry, biopax-level3.right, biopax-level3.comment, biopax-level3.xref, biopax-level3.displayName, biopax-level3.dataSource, biopax-level3.left}\n",
      "rn:R02326\n",
      "REVERSIBLE\n",
      "\n",
      "{biopax-level3.name, biopax-level3.comment, biopax-level3.displayName, biopax-level3.dataSource, biopax-level3.standardName, biopax-level3.entityReference}\n",
      "dCDP\n",
      "chebi.CHEBI:28846\n",
      "CHEBI:28846\n",
      "2'-deoxycytidine 5'-(trihydrogen diphosphate)\n",
      "dCDP\n"
     ]
    }
   ],
   "source": [
    "Pathway = list(filter(lambda x: x.name == 'Pathway', pc.world.classes()))[0]\n",
    "for p in Pathway.instances()[100:101]:\n",
    "  print(p.get_properties())\n",
    "  print(p.displayName)\n",
    "#   print(p.pathwayComponent)\n",
    "  print(p.pathwayComponent[0].get_properties())\n",
    "  print(p.pathwayComponent[0].displayName)\n",
    "  print()\n",
    "  print(p.pathwayComponent[0].controller)\n",
    "  print(p.pathwayComponent[0].controller[0].get_properties())\n",
    "  print(p.pathwayComponent[0].controller[0].displayName)\n",
    "  print(p.pathwayComponent[0].controller[0].entityReference)\n",
    "  print(p.pathwayComponent[0].controller[0].entityReference.get_properties())\n",
    "  print(p.pathwayComponent[0].controller[0].entityReference.organism.displayName)\n",
    "  print()\n",
    "  print(p.pathwayComponent[0].controlled)\n",
    "  print(p.pathwayComponent[0].controlled.get_properties())\n",
    "  print(p.pathwayComponent[0].controlled.displayName)\n",
    "  print(p.pathwayComponent[0].controlled.conversionDirection)\n",
    "  print()\n",
    "  print(p.pathwayComponent[0].controlled.right[0].get_properties())\n",
    "  print(p.pathwayComponent[0].controlled.right[0].displayName)\n",
    "  print(p.pathwayComponent[0].controlled.right[0].entityReference)\n",
    "  print(p.pathwayComponent[0].controlled.right[0].entityReference.name)\n",
    "  print(p.pathwayComponent[0].controlled.right[0].entityReference.standardName)\n",
    "  print(p.pathwayComponent[0].controlled.right[0].entityReference.displayName)\n",
    "#   print(p.xref)\n",
    "#   print(p.xref[0].get_properties())\n",
    "#   print(p.xref[0].db)\n",
    "\n",
    "# pc_pathways = pc.pathways()\n",
    "# pc_net = list(pc.toNet(pc_pathways))\n",
    "# print(pc.graph[list(pc.graph.keys())[0]])\n",
    "# pathway = pc.query(BIOPAX_BASE + 'Pathway')[572]\n",
    "# print(pathway)\n",
    "# print(json.dumps(pc.graph['http://pathwaycommons.org/pc2/#BiochemicalReaction_3bcef79a936f24d34b325c25bc3e2c6e'], indent=4))\n",
    "# for node in pc.graph:\n",
    "# #   print(pc.graph.get(node, {}).get(loaders.biopax.TYPE_PRED, [None])[0])\n",
    "#   print(pc.get_node_type(node))\n",
    "#   break"
   ]
  },
  {
   "cell_type": "code",
   "execution_count": null,
   "metadata": {},
   "outputs": [],
   "source": [
    "g = nx.DiGraph()\n",
    "\n",
    "p_elem = BioPax_Pathway(pc, pathway, [])\n",
    "gr = p_elem.process()\n",
    "gr.to_graph(g)\n",
    "# nx.draw(g)\n",
    "gr.meta"
   ]
  }
 ],
 "metadata": {
  "kernelspec": {
   "display_name": "Python 3",
   "language": "python",
   "name": "python3"
  },
  "language_info": {
   "codemirror_mode": {
    "name": "ipython",
    "version": 3
   },
   "file_extension": ".py",
   "mimetype": "text/x-python",
   "name": "python",
   "nbconvert_exporter": "python",
   "pygments_lexer": "ipython3",
   "version": "3.7.5"
  }
 },
 "nbformat": 4,
 "nbformat_minor": 2
}
